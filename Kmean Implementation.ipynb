{
 "cells": [
  {
   "cell_type": "markdown",
   "metadata": {},
   "source": [
    "# K-mean Test Implementation"
   ]
  },
  {
   "cell_type": "markdown",
   "metadata": {},
   "source": [
    "#### Used Libraries"
   ]
  },
  {
   "cell_type": "code",
   "execution_count": 14,
   "metadata": {},
   "outputs": [],
   "source": [
    "import pandas as pd\n",
    "import numpy as np\n",
    "import matplotlib.pyplot as plt\n",
    "import math as m \n",
    "from sklearn.decomposition import PCA"
   ]
  },
  {
   "cell_type": "markdown",
   "metadata": {},
   "source": [
    "#### Dataset Importation"
   ]
  },
  {
   "cell_type": "code",
   "execution_count": 15,
   "metadata": {},
   "outputs": [
    {
     "data": {
      "text/html": [
       "<div>\n",
       "<style scoped>\n",
       "    .dataframe tbody tr th:only-of-type {\n",
       "        vertical-align: middle;\n",
       "    }\n",
       "\n",
       "    .dataframe tbody tr th {\n",
       "        vertical-align: top;\n",
       "    }\n",
       "\n",
       "    .dataframe thead th {\n",
       "        text-align: right;\n",
       "    }\n",
       "</style>\n",
       "<table border=\"1\" class=\"dataframe\">\n",
       "  <thead>\n",
       "    <tr style=\"text-align: right;\">\n",
       "      <th></th>\n",
       "      <th>Alcohol</th>\n",
       "      <th>Malicacid</th>\n",
       "      <th>Ash</th>\n",
       "      <th>Alcalinityofash</th>\n",
       "      <th>Magnesium</th>\n",
       "      <th>Totalphenols</th>\n",
       "      <th>Flavanoids</th>\n",
       "      <th>Nonflavanoidphenols</th>\n",
       "      <th>Proanthocyanins</th>\n",
       "      <th>Colorintensity</th>\n",
       "      <th>Hue</th>\n",
       "      <th>OD280OD315ofdilutedwines</th>\n",
       "      <th>Proline</th>\n",
       "    </tr>\n",
       "  </thead>\n",
       "  <tbody>\n",
       "    <tr>\n",
       "      <th>0</th>\n",
       "      <td>1.514341</td>\n",
       "      <td>-0.560668</td>\n",
       "      <td>0.231400</td>\n",
       "      <td>-1.166303</td>\n",
       "      <td>1.908522</td>\n",
       "      <td>0.806722</td>\n",
       "      <td>1.031908</td>\n",
       "      <td>-0.657708</td>\n",
       "      <td>1.221438</td>\n",
       "      <td>0.251009</td>\n",
       "      <td>0.361158</td>\n",
       "      <td>1.842721</td>\n",
       "      <td>1.010159</td>\n",
       "    </tr>\n",
       "    <tr>\n",
       "      <th>1</th>\n",
       "      <td>0.245597</td>\n",
       "      <td>-0.498009</td>\n",
       "      <td>-0.825667</td>\n",
       "      <td>-2.483841</td>\n",
       "      <td>0.018094</td>\n",
       "      <td>0.567048</td>\n",
       "      <td>0.731565</td>\n",
       "      <td>-0.818411</td>\n",
       "      <td>-0.543189</td>\n",
       "      <td>-0.292496</td>\n",
       "      <td>0.404908</td>\n",
       "      <td>1.110317</td>\n",
       "      <td>0.962526</td>\n",
       "    </tr>\n",
       "    <tr>\n",
       "      <th>2</th>\n",
       "      <td>0.196325</td>\n",
       "      <td>0.021172</td>\n",
       "      <td>1.106214</td>\n",
       "      <td>-0.267982</td>\n",
       "      <td>0.088110</td>\n",
       "      <td>0.806722</td>\n",
       "      <td>1.212114</td>\n",
       "      <td>-0.497005</td>\n",
       "      <td>2.129959</td>\n",
       "      <td>0.268263</td>\n",
       "      <td>0.317409</td>\n",
       "      <td>0.786369</td>\n",
       "      <td>1.391224</td>\n",
       "    </tr>\n",
       "    <tr>\n",
       "      <th>3</th>\n",
       "      <td>1.686791</td>\n",
       "      <td>-0.345835</td>\n",
       "      <td>0.486554</td>\n",
       "      <td>-0.806975</td>\n",
       "      <td>0.928300</td>\n",
       "      <td>2.484437</td>\n",
       "      <td>1.462399</td>\n",
       "      <td>-0.979113</td>\n",
       "      <td>1.029251</td>\n",
       "      <td>1.182732</td>\n",
       "      <td>-0.426341</td>\n",
       "      <td>1.180741</td>\n",
       "      <td>2.328007</td>\n",
       "    </tr>\n",
       "    <tr>\n",
       "      <th>4</th>\n",
       "      <td>0.294868</td>\n",
       "      <td>0.227053</td>\n",
       "      <td>1.835226</td>\n",
       "      <td>0.450674</td>\n",
       "      <td>1.278379</td>\n",
       "      <td>0.806722</td>\n",
       "      <td>0.661485</td>\n",
       "      <td>0.226158</td>\n",
       "      <td>0.400275</td>\n",
       "      <td>-0.318377</td>\n",
       "      <td>0.361158</td>\n",
       "      <td>0.448336</td>\n",
       "      <td>-0.037767</td>\n",
       "    </tr>\n",
       "  </tbody>\n",
       "</table>\n",
       "</div>"
      ],
      "text/plain": [
       "    Alcohol  Malicacid       Ash  Alcalinityofash  Magnesium  Totalphenols  \\\n",
       "0  1.514341  -0.560668  0.231400        -1.166303   1.908522      0.806722   \n",
       "1  0.245597  -0.498009 -0.825667        -2.483841   0.018094      0.567048   \n",
       "2  0.196325   0.021172  1.106214        -0.267982   0.088110      0.806722   \n",
       "3  1.686791  -0.345835  0.486554        -0.806975   0.928300      2.484437   \n",
       "4  0.294868   0.227053  1.835226         0.450674   1.278379      0.806722   \n",
       "\n",
       "   Flavanoids  Nonflavanoidphenols  Proanthocyanins  Colorintensity       Hue  \\\n",
       "0    1.031908            -0.657708         1.221438        0.251009  0.361158   \n",
       "1    0.731565            -0.818411        -0.543189       -0.292496  0.404908   \n",
       "2    1.212114            -0.497005         2.129959        0.268263  0.317409   \n",
       "3    1.462399            -0.979113         1.029251        1.182732 -0.426341   \n",
       "4    0.661485             0.226158         0.400275       -0.318377  0.361158   \n",
       "\n",
       "   OD280OD315ofdilutedwines   Proline  \n",
       "0                  1.842721  1.010159  \n",
       "1                  1.110317  0.962526  \n",
       "2                  0.786369  1.391224  \n",
       "3                  1.180741  2.328007  \n",
       "4                  0.448336 -0.037767  "
      ]
     },
     "execution_count": 15,
     "metadata": {},
     "output_type": "execute_result"
    }
   ],
   "source": [
    "dataf = pd.read_csv(\"wine_cultivar_classification.csv\", header=0)\n",
    "dataf.pop('class')\n",
    "dataf.head()"
   ]
  },
  {
   "cell_type": "markdown",
   "metadata": {},
   "source": [
    "#### PCA Projection"
   ]
  },
  {
   "cell_type": "code",
   "execution_count": 16,
   "metadata": {},
   "outputs": [
    {
     "data": {
      "text/html": [
       "<div>\n",
       "<style scoped>\n",
       "    .dataframe tbody tr th:only-of-type {\n",
       "        vertical-align: middle;\n",
       "    }\n",
       "\n",
       "    .dataframe tbody tr th {\n",
       "        vertical-align: top;\n",
       "    }\n",
       "\n",
       "    .dataframe thead th {\n",
       "        text-align: right;\n",
       "    }\n",
       "</style>\n",
       "<table border=\"1\" class=\"dataframe\">\n",
       "  <thead>\n",
       "    <tr style=\"text-align: right;\">\n",
       "      <th></th>\n",
       "      <th>principal component 1</th>\n",
       "      <th>principal component 2</th>\n",
       "    </tr>\n",
       "  </thead>\n",
       "  <tbody>\n",
       "    <tr>\n",
       "      <th>0</th>\n",
       "      <td>3.307421</td>\n",
       "      <td>-1.439402</td>\n",
       "    </tr>\n",
       "    <tr>\n",
       "      <th>1</th>\n",
       "      <td>2.203250</td>\n",
       "      <td>0.332455</td>\n",
       "    </tr>\n",
       "    <tr>\n",
       "      <th>2</th>\n",
       "      <td>2.509661</td>\n",
       "      <td>-1.028251</td>\n",
       "    </tr>\n",
       "    <tr>\n",
       "      <th>3</th>\n",
       "      <td>3.746497</td>\n",
       "      <td>-2.748618</td>\n",
       "    </tr>\n",
       "    <tr>\n",
       "      <th>4</th>\n",
       "      <td>1.006070</td>\n",
       "      <td>-0.867384</td>\n",
       "    </tr>\n",
       "  </tbody>\n",
       "</table>\n",
       "</div>"
      ],
      "text/plain": [
       "   principal component 1  principal component 2\n",
       "0               3.307421              -1.439402\n",
       "1               2.203250               0.332455\n",
       "2               2.509661              -1.028251\n",
       "3               3.746497              -2.748618\n",
       "4               1.006070              -0.867384"
      ]
     },
     "execution_count": 16,
     "metadata": {},
     "output_type": "execute_result"
    }
   ],
   "source": [
    "pca = PCA(n_components=2)\n",
    "principalComponents = pca.fit_transform(dataf)\n",
    "principalDf = pd.DataFrame(data = principalComponents\n",
    "             , columns = ['principal component 1', 'principal component 2'])\n",
    "principalDf.head()"
   ]
  },
  {
   "cell_type": "code",
   "execution_count": 17,
   "metadata": {},
   "outputs": [],
   "source": [
    "xd = principalDf.to_numpy()\n",
    "xd = np.column_stack((xd,np.zeros(len(xd))))"
   ]
  },
  {
   "cell_type": "markdown",
   "metadata": {},
   "source": [
    "#### K-means Hard"
   ]
  },
  {
   "cell_type": "code",
   "execution_count": 34,
   "metadata": {},
   "outputs": [],
   "source": [
    "#Hyper-parameters:\n",
    "nbk = 3 #number of cluster"
   ]
  },
  {
   "cell_type": "code",
   "execution_count": 35,
   "metadata": {},
   "outputs": [],
   "source": [
    "kmnew=np.random.random((nbk,2))*4\n",
    "km = np.zeros(kmnew.shape)\n",
    "\n",
    "while(not(np.array_equal(kmnew, km))):\n",
    "    km = kmnew\n",
    "    #GetCluster\n",
    "    for x in xd:\n",
    "        dist = m.inf\n",
    "        for i in range(len(km)):\n",
    "            distk = m.dist(x[0:2],km[i,:])\n",
    "            if dist > distk:\n",
    "                dist=distk\n",
    "                x[2] = i+1\n",
    "\n",
    "    #ComputeNewMean\n",
    "    kmnew=np.zeros((len(km),2))\n",
    "    for i in range(len(km)):\n",
    "        tot = 1\n",
    "        for x in xd:\n",
    "            if x[2] == i+1:\n",
    "                tot+=1\n",
    "                kmnew[i,0]+=x[0]\n",
    "                kmnew[i,1]+=x[1]\n",
    "        kmnew[i,0] = kmnew[i,0]/tot\n",
    "        kmnew[i,1] = kmnew[i,1]/tot    "
   ]
  },
  {
   "cell_type": "code",
   "execution_count": 36,
   "metadata": {},
   "outputs": [
    {
     "data": {
      "text/plain": [
       "<matplotlib.collections.PathCollection at 0x20104803040>"
      ]
     },
     "execution_count": 36,
     "metadata": {},
     "output_type": "execute_result"
    },
    {
     "data": {
      "image/png": "[encoded data removed]",
      "text/plain": [
       "<Figure size 640x480 with 1 Axes>"
      ]
     },
     "metadata": {},
     "output_type": "display_data"
    }
   ],
   "source": [
    "plt.scatter(xd[:,0],xd[:,1], c = xd[:,2],cmap='rainbow',marker='x')\n",
    "plt.scatter(km[:,0],km[:,1],c=[1,2,3],cmap='rainbow',marker='o')"
   ]
  },
  {
   "cell_type": "code",
   "execution_count": null,
   "metadata": {},
   "outputs": [],
   "source": []
  }
 ],
 "metadata": {
  "kernelspec": {
   "display_name": "Python 3.10.7 64-bit",
   "language": "python",
   "name": "python3"
  },
  "language_info": {
   "codemirror_mode": {
    "name": "ipython",
    "version": 3
   },
   "file_extension": ".py",
   "mimetype": "text/x-python",
   "name": "python",
   "nbconvert_exporter": "python",
   "pygments_lexer": "ipython3",
   "version": "3.10.7"
  },
  "orig_nbformat": 4,
  "vscode": {
   "interpreter": {
    "hash": "19b2425bd8818a75eeb1464c3c6019dd20e06a6d0783f798d5a278caf8741f3f"
   }
  }
 },
 "nbformat": 4,
 "nbformat_minor": 2
}
